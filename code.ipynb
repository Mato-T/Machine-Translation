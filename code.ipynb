{
 "cells": [
  {
   "cell_type": "code",
   "execution_count": 1,
   "id": "f7bb4e47",
   "metadata": {},
   "outputs": [],
   "source": [
    "import torch\n",
    "import torch.nn as nn\n",
    "from torch.utils.data import DataLoader, Dataset\n",
    "from tqdm import tqdm\n",
    "import matplotlib.pyplot as plt\n",
    "import numpy as np\n",
    "import torch.nn.functional as F\n",
    "import pandas as pd\n",
    "import torchtext\n",
    "from torchtext.data.utils import get_tokenizer\n",
    "from collections import Counter\n",
    "from torchtext.vocab import vocab\n",
    "import math\n",
    "from sklearn.metrics import confusion_matrix, recall_score, precision_score, f1_score, accuracy_score\n",
    "import optuna"
   ]
  },
  {
   "cell_type": "code",
   "execution_count": 2,
   "id": "1a0fad00",
   "metadata": {},
   "outputs": [],
   "source": [
    "softmax = nn.Softmax(dim=-1)\n",
    "def run_epoch(model, loss_func, data_loader, device, epoch, optimizer=None, score_funcs=None):\n",
    "    running_loss = 0.0 #loss of the epoch\n",
    "    scores = dict() #will store the results of score functions\n",
    "    if score_funcs is not None:\n",
    "        score = {str(i): [] for i in score_funcs.keys()}\n",
    "    for inputs, labels in tqdm(data_loader, desc=f\"epoch: {epoch[0]+1}/{epoch[1]}\", position=0):\n",
    "        inputs = inputs.to(device)\n",
    "        labels = labels.to(device)\n",
    "        y_hat = model(inputs)\n",
    "        loss = loss_func(y_hat, labels)\n",
    "        if model.training:\n",
    "            optimizer.zero_grad()\n",
    "            loss.backward()\n",
    "            optimizer.step()\n",
    "        if score_funcs is not None:\n",
    "            y_hat_soft = softmax(y_hat.cpu())\n",
    "            y_pred = [np.argmax(y_hat_soft[i,:]) for i in range(len(labels))]\n",
    "            for i in score_funcs.keys():\n",
    "                score[str(i)].append(score_funcs[i](labels.tolist(), y_pred))\n",
    "        running_loss += loss.item()\n",
    "    if score_funcs is not None:\n",
    "        scores = {i: sum(score[i])/len(score[i]) for i in score_funcs.keys()}\n",
    "    return running_loss, scores"
   ]
  },
  {
   "cell_type": "code",
   "execution_count": 3,
   "id": "60a8cb5b",
   "metadata": {},
   "outputs": [],
   "source": [
    "def train_network(model, loss_func, training_loader, optimizer, lr_schedule, \n",
    "    score_funcs=None, testing_loader=None, val_loader=None, epochs=20, device=\"cpu\",\\\n",
    "    checkpoint_file=None):\n",
    "    model.to(device)\n",
    "    losses = []\n",
    "    scores = None #store the dict of scores\n",
    "    for epoch in range(epochs):\n",
    "        model = model.train()\n",
    "        losses.append(run_epoch(model, loss_func, training_loader, device, \\\n",
    "            [epoch, epochs], optimizer=optimizer)[0])\n",
    "        if lr_schedule is not None:\n",
    "            if isinstance(lr_schedule, torch.optim.lr_scheduler.ReduceLROnPlateau) \\\n",
    "                and val_loader is not None:\n",
    "                model.eval()\n",
    "                with torch.no_grad():\n",
    "                    eval_loss = run_epoch(model, loss_func, val_loader, device, \\\n",
    "                        [epoch, epochs])[0]\n",
    "                lr_schedule.step(eval_loss)\n",
    "            else:\n",
    "                lr_schedule.step()\n",
    "    if score_funcs is not None and testing_loader is not None:\n",
    "        model = model.eval()\n",
    "        with torch.no_grad():\n",
    "            scores = run_epoch(model, loss_func, testing_loader, device, [epoch, epochs], \\\n",
    "                score_funcs=score_funcs)[1]\n",
    "    if checkpoint_file is not None:\n",
    "        torch.save({'model': model, 'model_state_dict':model.state_dict(), \\\n",
    "            'optimizer_state_dict': optimizer.state_dict()}, checkpoint_file)\n",
    "    return losses, scores"
   ]
  },
  {
   "cell_type": "code",
   "execution_count": 4,
   "id": "bd8b0134",
   "metadata": {},
   "outputs": [],
   "source": [
    "def moveTo(obj, device): #move items of different datastructures to device\n",
    "    if isinstance(obj, list):\n",
    "        return [moveTo(x, device) for x in obj]\n",
    "    elif isinstance(obj, tuple):\n",
    "        return tuple(moveTo(list(obj), device))\n",
    "    elif isinstance(obj, set):\n",
    "        return set(moveTo(list(obj), device))\n",
    "    elif isinstance(obj, dict):\n",
    "        to_ret = dict()\n",
    "        for key, value in obj.items():\n",
    "            to_ret[moveTo(key, device)] = moveTo(value, device)\n",
    "        return to_ret\n",
    "    elif hasattr(obj, 'to'):\n",
    "        return obj.to(device)\n",
    "    else:\n",
    "        return obj"
   ]
  },
  {
   "cell_type": "code",
   "execution_count": 5,
   "id": "4ef1cbfd",
   "metadata": {},
   "outputs": [],
   "source": [
    "class PositionalEncoding(nn.Module):\n",
    "    def __init__(self, d_model, dropout=0.1, max_len=5000, batch_first=False):\n",
    "        super().__init__()\n",
    "        self.dropout = nn.Dropout(p=dropout)\n",
    "        self.d_model = d_model\n",
    "        pe = torch.zeros(max_len, d_model)\n",
    "        position = torch.arange(0, max_len, dtype=torch.float).unsqueeze(1)\n",
    "        div_term = torch.exp(torch.arange(0, d_model, 2).float() *\n",
    "        (-math.log(10000.0) / d_model))\n",
    "        pe[:, 0::2] = torch.sin(position * div_term)\n",
    "        pe[:, 1::2] = torch.cos(position * div_term)\n",
    "        pe = pe.unsqueeze(0).transpose(0, 1)\n",
    "        self.register_buffer('pe', pe)\n",
    "        self.batch_first = batch_first\n",
    "    def forward(self, x):\n",
    "        if self.batch_first:\n",
    "            x = x.permute(1, 0, 2)\n",
    "        x = x *np.sqrt(self.d_model) + self.pe[:x.size(0), :]\n",
    "        x = self.dropout(x)\n",
    "        if self.batch_first:\n",
    "            x = x.permute(1, 0, 2)\n",
    "        return x"
   ]
  },
  {
   "cell_type": "code",
   "execution_count": 6,
   "id": "2ee6b62d",
   "metadata": {},
   "outputs": [],
   "source": [
    "class SelfAttention(nn.Module):\n",
    "    def __init__(self, embed_dim, heads):\n",
    "        super().__init__()\n",
    "        self.embed_dim = embed_dim\n",
    "        self.heads = heads\n",
    "        self.head_dim = embed_dim // heads #dim of each matrix\n",
    "        assert (\n",
    "            self.head_dim * heads == embed_dim), \\\n",
    "           \"Embedding size needs to be divisible by heads\"\n",
    "        self.values = nn.Linear(embed_dim, embed_dim)\n",
    "        self.keys = nn.Linear(embed_dim, embed_dim)\n",
    "        self.queries = nn.Linear(embed_dim, embed_dim)\n",
    "        self.fc_out = nn.Linear(embed_dim, embed_dim)\n",
    "\n",
    "    def forward(self, values, keys, query, mask):\n",
    "        N = query.shape[0]\n",
    "        value_len, key_len, query_len = values.shape[1], keys.shape[1], \\\n",
    "            query.shape[1]\n",
    "        values = self.values(values)  # (N, value_len, embed_dim)\n",
    "        keys = self.keys(keys)  # (N, key_len, embed_dim)\n",
    "        queries = self.queries(query)  # (N, query_len, embed_dim)\n",
    "        values = values.reshape(N, value_len, self.heads, self.head_dim)\n",
    "        keys = keys.reshape(N, key_len, self.heads, self.head_dim)\n",
    "        queries = queries.reshape(N, query_len, self.heads, self.head_dim)\n",
    "        score = torch.einsum(\"nqhd,nkhd->nhqk\", [queries, keys])\n",
    "        # score: (N, heads, query_len, key_len)\n",
    "        if mask is not None:\n",
    "            score = score.masked_fill(mask == 0, float(\"-1e20\"))\n",
    "        attention_weights = torch.softmax(score / (self.embed_dim ** (1 / 2)), dim=3)\n",
    "        # attention_weights shape: (N, heads, query_len, key_len)\n",
    "        out = torch.einsum(\"nhql,nlhd->nqhd\", [attention_weights, values]).reshape( \\\n",
    "            N, query_len, self.heads * self.head_dim)\n",
    "        # (N, query_len, embed_dim)\n",
    "        out = self.fc_out(out)\n",
    "        return out"
   ]
  },
  {
   "cell_type": "code",
   "execution_count": 7,
   "id": "67ba9343",
   "metadata": {},
   "outputs": [],
   "source": [
    "class TransformerBlock(nn.Module):\n",
    "    def __init__(self, embed_dim, heads, dropout, forward_expansion):\n",
    "        super().__init__()\n",
    "        self.attention = SelfAttention(embed_dim, heads)\n",
    "        self.norm1 = nn.LayerNorm(embed_dim)\n",
    "        self.norm2 = nn.LayerNorm(embed_dim)\n",
    "        self.feed_forward = nn.Sequential( \\\n",
    "            nn.Linear(embed_dim, forward_expansion * embed_dim), \\\n",
    "            nn.LeakyReLU(0.1), \\\n",
    "            nn.Linear(forward_expansion * embed_dim, embed_dim))\n",
    "        self.dropout = nn.Dropout(dropout)\n",
    "\n",
    "    def forward(self, value, key, query, mask):\n",
    "        attention = self.attention(value, key, query, mask)\n",
    "        x = self.dropout(self.norm1(attention + query))\n",
    "        forward = self.feed_forward(x)\n",
    "        out = self.dropout(self.norm2(forward + x))\n",
    "        return out"
   ]
  },
  {
   "cell_type": "code",
   "execution_count": 8,
   "id": "05ca86a7",
   "metadata": {},
   "outputs": [],
   "source": [
    "class Encoder(nn.Module):\n",
    "    def __init__(self, VOCAB_SIZE, embed_dim, num_layers, heads, \\\n",
    "        device, forward_expansion, dropout, padding_idx=None):\n",
    "        super().__init__()\n",
    "        self.embed_dim = embed_dim\n",
    "        self.device = device\n",
    "        self.word_embedding = nn.Embedding(VOCAB_SIZE, embed_dim, padding_idx=padding_idx)\n",
    "        self.position_embedding = PositionalEncoding(embed_dim, batch_first=True)\n",
    "        self.layers = nn.ModuleList(\n",
    "            [TransformerBlock(embed_dim,heads,dropout=dropout,\n",
    "            forward_expansion=forward_expansion) for _ in range(num_layers)])\n",
    "        self.dropout = nn.Dropout(dropout)\n",
    "\n",
    "    def forward(self, x):\n",
    "        N, seq_length = x.shape\n",
    "        x = self.word_embedding(x)\n",
    "        x = self.position_embedding(x)\n",
    "        out = self.dropout(x)\n",
    "        for layer in self.layers:\n",
    "            out = layer(out, out, out, None)\n",
    "        return out"
   ]
  },
  {
   "cell_type": "code",
   "execution_count": 9,
   "id": "d4e82234",
   "metadata": {},
   "outputs": [],
   "source": [
    "class DecoderBlock(nn.Module):\n",
    "    def __init__(self, embed_dim, heads, forward_expansion, dropout, device):\n",
    "        super().__init__()\n",
    "        self.norm = nn.LayerNorm(embed_dim)\n",
    "        self.attention = SelfAttention(embed_dim, heads=heads)\n",
    "        self.transformer_block = TransformerBlock(\n",
    "            embed_dim, heads, dropout, forward_expansion)\n",
    "        self.dropout = nn.Dropout(dropout)\n",
    "\n",
    "    def forward(self, x, value, key, mask):\n",
    "        attention = self.attention(x, x, x, mask)\n",
    "        query = self.dropout(self.norm(attention + x))\n",
    "        out = self.transformer_block(value, key, query, None)\n",
    "        return out"
   ]
  },
  {
   "cell_type": "code",
   "execution_count": 10,
   "id": "9c29bad1",
   "metadata": {},
   "outputs": [],
   "source": [
    "class Decoder(nn.Module):\n",
    "    def __init__(self, VOCAB_SIZE, embed_dim, num_layers, NUM_CLASS,\n",
    "        heads, forward_expansion, dropout, device,padding_idx=None):\n",
    "        super().__init__()\n",
    "        self.device = device\n",
    "        self.word_embedding = nn.Embedding(VOCAB_SIZE, embed_dim, padding_idx=padding_idx)\n",
    "        self.position_embedding = PositionalEncoding(embed_dim, batch_first=True)\n",
    "        self.layers = nn.ModuleList(\n",
    "            [DecoderBlock(embed_dim, heads, forward_expansion, dropout, device)\n",
    "                for _ in range(num_layers)])\n",
    "        self.dropout = nn.Dropout(dropout)\n",
    "\n",
    "    def forward(self, x, enc_out, mask):\n",
    "        N, seq_length = x.shape\n",
    "        x = self.word_embedding(x)\n",
    "        x = self.position_embedding(x)\n",
    "        x = self.dropout(x)\n",
    "        for layer in self.layers:\n",
    "            x = layer(x, enc_out, enc_out, mask)\n",
    "        return x"
   ]
  },
  {
   "cell_type": "code",
   "execution_count": 11,
   "id": "1162ecca",
   "metadata": {},
   "outputs": [],
   "source": [
    "class Transformer(nn.Module):\n",
    "    def __init__(self,VOCAB_SIZE,NUM_CLASS, embed_dim=512,\n",
    "        num_layers=4,forward_expansion=4,heads=6,dropout=0,\n",
    "        device=\"cpu\",padding_idx=None):\n",
    "        super().__init__()\n",
    "        self.encoder = Encoder(VOCAB_SIZE,embed_dim,num_layers,\n",
    "            heads,device,forward_expansion,dropout, padding_idx)\n",
    "        self.decoder = Decoder(VOCAB_SIZE,embed_dim,num_layers,\n",
    "            NUM_CLASS,heads,forward_expansion,dropout, device,padding_idx)\n",
    "        self.device = device\n",
    "        self.attn = AttentionAvg(AdditiveAttentionScore(embed_dim))\n",
    "        self.pred = nn.Sequential(nn.Flatten(),nn.Linear(embed_dim, embed_dim), \\\n",
    "            nn.LeakyReLU(0.1),nn.BatchNorm1d(embed_dim),nn.Linear(embed_dim, NUM_CLASS))\n",
    "        self.padding_idx = padding_idx\n",
    "\n",
    "    def make_mask(self, x):\n",
    "        N, x_len = x.shape\n",
    "        mask = torch.tril(torch.ones((x_len, x_len))).expand(\n",
    "            N, 1, x_len, x_len)\n",
    "        return mask.to(self.device)\n",
    "\n",
    "    def forward(self, x):\n",
    "        mask = self.make_mask(x)\n",
    "        enc_src = self.encoder(x)\n",
    "        out = self.decoder(x, enc_src, mask)\n",
    "        if self.padding_idx is not None:\n",
    "            pad_mask = x != self.padding_idx\n",
    "        else:\n",
    "            pad_mask = x == x\n",
    "        context = out.sum(dim=1)/pad_mask.sum(dim=1).unsqueeze(1)\n",
    "        return self.pred(self.attn(out, context, mask=pad_mask))"
   ]
  },
  {
   "cell_type": "code",
   "execution_count": 12,
   "id": "2e3db4ba",
   "metadata": {},
   "outputs": [],
   "source": [
    "class AttentionAvg(nn.Module):\n",
    "    def __init__(self, attnScore):\n",
    "        super(AttentionAvg, self).__init__()\n",
    "        self.score = attnScore\n",
    "    def forward(self, states, context, mask=None):\n",
    "        B = states.size(0)\n",
    "        T = states.size(1)\n",
    "        D = states.size(2)\n",
    "        scores = self.score(states, context)\n",
    "        if mask is not None:\n",
    "            scores[~mask] = float(-10000)\n",
    "        weights = F.softmax(scores, dim=1)\n",
    "        context = (states*weights).sum(dim=1)\n",
    "        return context.view(B, D)"
   ]
  },
  {
   "cell_type": "code",
   "execution_count": 13,
   "id": "2c72697d",
   "metadata": {},
   "outputs": [],
   "source": [
    "class AdditiveAttentionScore(nn.Module):\n",
    "    def __init__(self, H):\n",
    "        super().__init__()\n",
    "        self.v = nn.Linear(H, 1)\n",
    "        self.w = nn.Linear(2*H, H) #2H due to concatenation\n",
    "    def forward(self, states, context):\n",
    "        T = states.size(1)\n",
    "        context = torch.stack([context for _ in range(T)], dim=1)\n",
    "        state_context_combined = torch.cat((states, context), dim=2)\n",
    "        scores = self.v(torch.tanh(self.w(state_context_combined)))\n",
    "        return scores"
   ]
  },
  {
   "cell_type": "code",
   "execution_count": 14,
   "id": "a9fde2f5",
   "metadata": {},
   "outputs": [],
   "source": [
    "class SentimentDataset(Dataset):\n",
    "    def __init__(self, lang_pairs, Vocab, tokenizer):\n",
    "        self.lang_pairs = lang_pairs\n",
    "        self.Vocab = Vocab\n",
    "        self.tokenizer = tokenizer\n",
    "    def __len__(self):\n",
    "        return len(self.lang_pairs)\n",
    "    def __getitem__(self, idx):\n",
    "        data = self.lang_pairs.loc[idx]\n",
    "        x = [self.Vocab['<SOS>']] + [self.Vocab[token] if token in self.Vocab else self.Vocab['<unk>']\n",
    "            for token in self.tokenizer(data[\"tweet\"])] + [self.Vocab['<EOS>']]\n",
    "        y = data[\"sentiment\"]\n",
    "        x = torch.tensor(x, dtype=torch.int64)\n",
    "        y = torch.tensor(y, dtype=torch.int64)\n",
    "        return x, y\n"
   ]
  },
  {
   "cell_type": "markdown",
   "id": "805a453f",
   "metadata": {},
   "source": [
    "# Preprocessing\n",
    "- Loading the dataset\n",
    "- Looking at length distribution\n",
    "- Creating a vocabulary"
   ]
  },
  {
   "cell_type": "code",
   "execution_count": 15,
   "id": "2664be1e",
   "metadata": {},
   "outputs": [],
   "source": [
    "column_names = [\"sentiment\", \"id\", \"date\", \"query\", \"username\", \"tweet\"]\n",
    "df = pd.io.parsers.read_csv(\"training.1600000.processed.noemoticon.csv\", encoding=\"ISO-8859-1\", names=column_names)"
   ]
  },
  {
   "cell_type": "code",
   "execution_count": 16,
   "id": "0fc0b204",
   "metadata": {},
   "outputs": [
    {
     "data": {
      "image/png": "[encoded data removed]",
      "text/plain": [
       "<Figure size 640x480 with 1 Axes>"
      ]
     },
     "metadata": {},
     "output_type": "display_data"
    }
   ],
   "source": [
    "x = df[\"tweet\"].str.len().value_counts()\n",
    "plt.bar(x.index, x.values)\n",
    "plt.title(\"Distribution of Sentence Lengths\")\n",
    "plt.xlabel(\"Sentence Length\")\n",
    "plt.ylabel(\"Count\")\n",
    "plt.show()\n"
   ]
  },
  {
   "cell_type": "code",
   "execution_count": 17,
   "id": "34d206ea",
   "metadata": {},
   "outputs": [],
   "source": [
    "df.dropna(inplace=True)"
   ]
  },
  {
   "cell_type": "code",
   "execution_count": 18,
   "id": "4538d5e0",
   "metadata": {},
   "outputs": [],
   "source": [
    "df['sentiment'] = df['sentiment'].replace(4, 1) \n",
    "df = df[df['tweet'].str.len() < 100]\n",
    "df.reset_index(inplace=True)"
   ]
  },
  {
   "cell_type": "code",
   "execution_count": 19,
   "id": "f34f4144",
   "metadata": {},
   "outputs": [],
   "source": [
    "tokenizer = get_tokenizer('basic_english')\n",
    "counter = Counter()\n",
    "for i in range(len(df)):\n",
    "    counter.update(tokenizer(df.loc[i][\"tweet\"]))\n",
    "Vocab = vocab(counter, min_freq=10, specials=('<unk>', '<SOS>', '<EOS>', '<PAD>'))"
   ]
  },
  {
   "cell_type": "code",
   "execution_count": 20,
   "id": "6cfb6914",
   "metadata": {},
   "outputs": [],
   "source": [
    "dataset = SentimentDataset(df, Vocab, tokenizer)\n",
    "train_size = round(len(dataset)*0.9)\n",
    "test_size = len(dataset)-train_size\n",
    "train_dataset, test_dataset = torch.utils.data.random_split(dataset, \\\n",
    "    [train_size, test_size])"
   ]
  },
  {
   "cell_type": "code",
   "execution_count": 21,
   "id": "eed61eac",
   "metadata": {},
   "outputs": [],
   "source": [
    "VOCAB_SIZE = len(Vocab)\n",
    "NUM_CLASS = len(df[\"sentiment\"].unique())\n",
    "padding_idx = Vocab['<PAD>']\n",
    "embed_dim = 126\n",
    "B = 92\n",
    "epochs = 6\n",
    "device = \"cuda\""
   ]
  },
  {
   "cell_type": "code",
   "execution_count": 22,
   "id": "c0aaeae3",
   "metadata": {},
   "outputs": [],
   "source": [
    "def pad_batch(batch):\n",
    "    labels = [z[1] for z in batch]\n",
    "    texts = [z[0] for z in batch]\n",
    "    max_len = max([text.size(0) for text in texts])\n",
    "    texts = [F.pad(text, (0,max_len-text.size(0)),value=padding_idx) for text in texts]\n",
    "    x, y = torch.stack(texts), torch.tensor(labels, dtype=torch.int64)\n",
    "    return x, y"
   ]
  },
  {
   "cell_type": "code",
   "execution_count": 23,
   "id": "e76b0b8f",
   "metadata": {},
   "outputs": [],
   "source": [
    "train_loader = DataLoader(train_dataset, batch_size=B, shuffle=True, \\\n",
    "    collate_fn=pad_batch)\n",
    "test_loader = DataLoader(test_dataset, batch_size=B, collate_fn=pad_batch)"
   ]
  },
  {
   "cell_type": "markdown",
   "id": "077ea30f",
   "metadata": {},
   "source": [
    "# Training"
   ]
  },
  {
   "cell_type": "code",
   "execution_count": 24,
   "id": "99cae509",
   "metadata": {},
   "outputs": [],
   "source": [
    "transformer = Transformer(VOCAB_SIZE, NUM_CLASS,embed_dim, \n",
    "    device=device, padding_idx=padding_idx, dropout=.2)"
   ]
  },
  {
   "cell_type": "markdown",
   "id": "e4eb5997",
   "metadata": {},
   "source": [
    "device = \"cuda\"\n",
    "transformer = Transformer(VOCAB_SIZE, NUM_CLASS,embed_dim, \n",
    "    device=device, padding_idx=padding_idx, dropout=.2)\n",
    "loss_func = nn.CrossEntropyLoss()\n",
    "optimizer = torch.optim.AdamW(transformer.parameters())\n",
    "scheduler = torch.optim.lr_scheduler.CosineAnnealingLR(optimizer, epochs//3,eta_min=0.0003)\n",
    "\n",
    "transformer_results = train_network(transformer, loss_func, \\\n",
    "    train_loader, optimizer, scheduler, epochs=epochs, device=device,\n",
    "    checkpoint_file=\"transformerModel_new.pt\")"
   ]
  },
  {
   "cell_type": "markdown",
   "id": "96cfcf3b",
   "metadata": {},
   "source": [
    "# Evaluation"
   ]
  },
  {
   "cell_type": "code",
   "execution_count": 25,
   "id": "5f2a3437",
   "metadata": {},
   "outputs": [
    {
     "data": {
      "text/plain": [
       "<All keys matched successfully>"
      ]
     },
     "execution_count": 25,
     "metadata": {},
     "output_type": "execute_result"
    }
   ],
   "source": [
    "checkpoint_dict = torch.load('transformerModel_new.pt', map_location=\"cuda\")\n",
    "transformer.load_state_dict(checkpoint_dict['model_state_dict'])"
   ]
  },
  {
   "cell_type": "code",
   "execution_count": 28,
   "id": "0a4642c4",
   "metadata": {},
   "outputs": [
    {
     "data": {
      "image/png": "[encoded data removed]",
      "text/plain": [
       "<Figure size 640x480 with 1 Axes>"
      ]
     },
     "metadata": {},
     "output_type": "display_data"
    }
   ],
   "source": [
    "plt.plot(range(20), transformer_results[0] )\n",
    "plt.xlabel(\"Epochs\")\n",
    "plt.ylabel(\"Loss\")\n",
    "plt.title(\"Training Loss over Epochs\")\n",
    "plt.show()"
   ]
  },
  {
   "cell_type": "code",
   "execution_count": 29,
   "id": "7fc564c1",
   "metadata": {},
   "outputs": [],
   "source": [
    "transformer = transformer.eval().to(device)\n",
    "y_pred = []\n",
    "y_test = []\n",
    "with torch.no_grad():\n",
    "    for x, y in test_loader:\n",
    "        outputs = transformer(x.to(device))\n",
    "        _, predicted = torch.max(outputs, 1)\n",
    "        y_pred += predicted.tolist()\n",
    "        y_test += y.tolist()"
   ]
  },
  {
   "cell_type": "code",
   "execution_count": 30,
   "id": "c1244caa",
   "metadata": {},
   "outputs": [
    {
     "name": "stdout",
     "output_type": "stream",
     "text": [
      "Recall: 0.8573631721443504\n",
      "Precision: 0.8480770208654678\n",
      "F1-Score: 0.8526948148779344\n",
      "Accuracy: 0.8508455565142364\n",
      "\n",
      "[[48579  8963]\n",
      " [ 8324 50034]]\n"
     ]
    }
   ],
   "source": [
    "cm = confusion_matrix(y_test, y_pred)\n",
    "rf_Recall = recall_score(y_test, y_pred)\n",
    "rf_Precision = precision_score(y_test, y_pred)\n",
    "rf_f1 = f1_score(y_test, y_pred)\n",
    "rf_accuracy = accuracy_score(y_test, y_pred)\n",
    "print(\"Recall: {}\\nPrecision: {}\\nF1-Score: {}\\nAccuracy: {}\\n\".format(rf_Recall, rf_Precision, rf_f1, rf_accuracy))\n",
    "print(cm)"
   ]
  }
 ],
 "metadata": {
  "kernelspec": {
   "display_name": "Python 3 (ipykernel)",
   "language": "python",
   "name": "python3"
  },
  "language_info": {
   "codemirror_mode": {
    "name": "ipython",
    "version": 3
   },
   "file_extension": ".py",
   "mimetype": "text/x-python",
   "name": "python",
   "nbconvert_exporter": "python",
   "pygments_lexer": "ipython3",
   "version": "3.9.13"
  }
 },
 "nbformat": 4,
 "nbformat_minor": 5
}
